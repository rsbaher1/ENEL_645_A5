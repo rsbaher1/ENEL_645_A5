{
 "cells": [
  {
   "cell_type": "markdown",
   "metadata": {
    "id": "ReGlxKp0Kl6j"
   },
   "source": [
    "# Assignment 05 - COVID-19 Cases Prediction in Alberta\n",
    "\n",
    "The goal of this assignment is for you to create a recurrent neural network model to predict new daily cases of COVID-19 in Alberta up to seven days in the future. The deliverable for this assignment is this jupyter-notebook completed with your solution. Name the notebook as enel645_assignment05_team_(team number).ipynb. Submit the notebook to your team dropbox in the course D2L page.\n",
    "\n",
    "We will be using the University of Oxford Blavatnik School of Government dataset. They are tracking coronavirus government responses since January 1st, 2020. They have collected information across different countries and regions. For this assignment, we will focus in the province of Alberta, Canada.\n",
    "\n",
    "The dataset was already pre-processed to handle missing values, etc. You can focus just on your model development. Only edit the sections indicated in this notebook. You are free to add extra cells of text and code to this sections.\n",
    "\n",
    "At the end of the notebook, please include a short description of what each team member did in the assignment. Also include the consensus score between 0 and 3 to each team member. This score will be used to adjust the final grade of each student. Students developing the project individually do not need this description and score.\n",
    "\n",
    "You are being assessed based on:\n",
    "\n",
    "1. Code execution - 20%\n",
    "2. Clarity of the code (e.g., easy to follow, has pertinent comments, etc.) - 20%\n",
    "3. Proper usage of the techniques seen in class - 30%\n",
    "4. Accuracy of the models - 30%\n",
    "\n",
    "## Don't edit the cells below"
   ]
  },
  {
   "cell_type": "code",
   "execution_count": 1,
   "metadata": {
    "executionInfo": {
     "elapsed": 2325,
     "status": "ok",
     "timestamp": 1616612575485,
     "user": {
      "displayName": "Roberto Medeiros de Souza",
      "photoUrl": "https://lh3.googleusercontent.com/a-/AOh14GjNSx6sawbAkG0C_mz5xTKcM7sE5CS_OTIRmiD3ESc=s64",
      "userId": "15090920763882844564"
     },
     "user_tz": 360
    },
    "id": "sccKOb_2IDJH"
   },
   "outputs": [],
   "source": [
    "%matplotlib inline\n",
    "import pandas as pd\n",
    "import numpy as np\n",
    "import tensorflow as tf\n",
    "import matplotlib.pylab as plt"
   ]
  },
  {
   "cell_type": "code",
   "execution_count": 23,
   "metadata": {
    "colab": {
     "base_uri": "https://localhost:8080/",
     "height": 600
    },
    "executionInfo": {
     "elapsed": 1570,
     "status": "ok",
     "timestamp": 1616613572351,
     "user": {
      "displayName": "Roberto Medeiros de Souza",
      "photoUrl": "https://lh3.googleusercontent.com/a-/AOh14GjNSx6sawbAkG0C_mz5xTKcM7sE5CS_OTIRmiD3ESc=s64",
      "userId": "15090920763882844564"
     },
     "user_tz": 360
    },
    "id": "YxOBKsUIIDJL",
    "outputId": "a02b4a32-f7e0-40df-e7c4-6b9f76f84695"
   },
   "outputs": [],
   "source": [
    "# Features - information about the features can be found here:\n",
    "# https://github.com/OxCGRT/covid-policy-tracker/blob/master/documentation/codebook.md\n",
    "columns = ['Date', 'C1_School closing','C2_Workplace closing','C3_Cancel public events',\\\n",
    "           'C4_Restrictions on gatherings','C5_Close public transport','C6_Stay at home requirements',\\\n",
    "           'C7_Restrictions on internal movement','C8_International travel controls', 'E1_Income support',\\\n",
    "           'E1_Flag', 'E2_Debt/contract relief','E3_Fiscal measures', 'E4_International support',\\\n",
    "           'H1_Public information campaigns','H1_Flag', 'H2_Testing policy', 'H3_Contact tracing',\\\n",
    "           'H4_Emergency investment in healthcare', 'H5_Investment in vaccines', 'H6_Facial Coverings',\\\n",
    "           'H6_Flag', 'H7_Vaccination policy','H7_Flag', 'H8_Protection of elderly people', \\\n",
    "           'ConfirmedCases']\n",
    "\n",
    "# Load the dataset\n",
    "DATA_URL = 'https://raw.githubusercontent.com/OxCGRT/covid-policy-tracker/master/data/OxCGRT_latest.csv'\n",
    "df = pd.read_csv(DATA_URL,\n",
    "                 parse_dates=['Date'],\n",
    "                 encoding=\"ISO-8859-1\",\n",
    "                 dtype={\"RegionName\": str,\n",
    "                        \"RegionCode\": str},\n",
    "                 error_bad_lines=False)\n",
    "\n",
    "# We are only interested in Alberta\n",
    "df  = df[(df[\"RegionName\"] == \"Alberta\")]"
   ]
  },
  {
   "cell_type": "code",
   "execution_count": 3,
   "metadata": {
    "colab": {
     "base_uri": "https://localhost:8080/",
     "height": 583
    },
    "executionInfo": {
     "elapsed": 244,
     "status": "ok",
     "timestamp": 1616613582244,
     "user": {
      "displayName": "Roberto Medeiros de Souza",
      "photoUrl": "https://lh3.googleusercontent.com/a-/AOh14GjNSx6sawbAkG0C_mz5xTKcM7sE5CS_OTIRmiD3ESc=s64",
      "userId": "15090920763882844564"
     },
     "user_tz": 360
    },
    "id": "hLO5vs8nrUMl",
    "outputId": "9e370bd5-51c3-437f-b048-0a412dfeab62"
   },
   "outputs": [
    {
     "data": {
      "text/html": [
       "<div>\n",
       "<style scoped>\n",
       "    .dataframe tbody tr th:only-of-type {\n",
       "        vertical-align: middle;\n",
       "    }\n",
       "\n",
       "    .dataframe tbody tr th {\n",
       "        vertical-align: top;\n",
       "    }\n",
       "\n",
       "    .dataframe thead th {\n",
       "        text-align: right;\n",
       "    }\n",
       "</style>\n",
       "<table border=\"1\" class=\"dataframe\">\n",
       "  <thead>\n",
       "    <tr style=\"text-align: right;\">\n",
       "      <th></th>\n",
       "      <th>Date</th>\n",
       "      <th>C1_School closing</th>\n",
       "      <th>C2_Workplace closing</th>\n",
       "      <th>C3_Cancel public events</th>\n",
       "      <th>C4_Restrictions on gatherings</th>\n",
       "      <th>C5_Close public transport</th>\n",
       "      <th>C6_Stay at home requirements</th>\n",
       "      <th>C7_Restrictions on internal movement</th>\n",
       "      <th>C8_International travel controls</th>\n",
       "      <th>E1_Income support</th>\n",
       "      <th>...</th>\n",
       "      <th>H2_Testing policy</th>\n",
       "      <th>H3_Contact tracing</th>\n",
       "      <th>H4_Emergency investment in healthcare</th>\n",
       "      <th>H5_Investment in vaccines</th>\n",
       "      <th>H6_Facial Coverings</th>\n",
       "      <th>H6_Flag</th>\n",
       "      <th>H7_Vaccination policy</th>\n",
       "      <th>H7_Flag</th>\n",
       "      <th>H8_Protection of elderly people</th>\n",
       "      <th>ConfirmedCases</th>\n",
       "    </tr>\n",
       "  </thead>\n",
       "  <tbody>\n",
       "    <tr>\n",
       "      <th>26153</th>\n",
       "      <td>2021-03-25</td>\n",
       "      <td>1.0</td>\n",
       "      <td>2.0</td>\n",
       "      <td>2.0</td>\n",
       "      <td>4.0</td>\n",
       "      <td>0.0</td>\n",
       "      <td>0.0</td>\n",
       "      <td>1.0</td>\n",
       "      <td>4.0</td>\n",
       "      <td>1.0</td>\n",
       "      <td>...</td>\n",
       "      <td>2.0</td>\n",
       "      <td>2.0</td>\n",
       "      <td>0.0</td>\n",
       "      <td>0.0</td>\n",
       "      <td>3.0</td>\n",
       "      <td>1.0</td>\n",
       "      <td>2.0</td>\n",
       "      <td>1.0</td>\n",
       "      <td>2.0</td>\n",
       "      <td>144311.0</td>\n",
       "    </tr>\n",
       "    <tr>\n",
       "      <th>26154</th>\n",
       "      <td>2021-03-26</td>\n",
       "      <td>1.0</td>\n",
       "      <td>2.0</td>\n",
       "      <td>2.0</td>\n",
       "      <td>4.0</td>\n",
       "      <td>0.0</td>\n",
       "      <td>0.0</td>\n",
       "      <td>1.0</td>\n",
       "      <td>4.0</td>\n",
       "      <td>1.0</td>\n",
       "      <td>...</td>\n",
       "      <td>2.0</td>\n",
       "      <td>2.0</td>\n",
       "      <td>0.0</td>\n",
       "      <td>0.0</td>\n",
       "      <td>3.0</td>\n",
       "      <td>1.0</td>\n",
       "      <td>2.0</td>\n",
       "      <td>1.0</td>\n",
       "      <td>2.0</td>\n",
       "      <td>145028.0</td>\n",
       "    </tr>\n",
       "    <tr>\n",
       "      <th>26155</th>\n",
       "      <td>2021-03-27</td>\n",
       "      <td>1.0</td>\n",
       "      <td>2.0</td>\n",
       "      <td>2.0</td>\n",
       "      <td>4.0</td>\n",
       "      <td>0.0</td>\n",
       "      <td>0.0</td>\n",
       "      <td>1.0</td>\n",
       "      <td>4.0</td>\n",
       "      <td>1.0</td>\n",
       "      <td>...</td>\n",
       "      <td>2.0</td>\n",
       "      <td>2.0</td>\n",
       "      <td>0.0</td>\n",
       "      <td>0.0</td>\n",
       "      <td>3.0</td>\n",
       "      <td>1.0</td>\n",
       "      <td>2.0</td>\n",
       "      <td>1.0</td>\n",
       "      <td>2.0</td>\n",
       "      <td>145696.0</td>\n",
       "    </tr>\n",
       "    <tr>\n",
       "      <th>26156</th>\n",
       "      <td>2021-03-28</td>\n",
       "      <td>1.0</td>\n",
       "      <td>2.0</td>\n",
       "      <td>2.0</td>\n",
       "      <td>4.0</td>\n",
       "      <td>0.0</td>\n",
       "      <td>0.0</td>\n",
       "      <td>1.0</td>\n",
       "      <td>4.0</td>\n",
       "      <td>1.0</td>\n",
       "      <td>...</td>\n",
       "      <td>2.0</td>\n",
       "      <td>2.0</td>\n",
       "      <td>0.0</td>\n",
       "      <td>0.0</td>\n",
       "      <td>3.0</td>\n",
       "      <td>1.0</td>\n",
       "      <td>2.0</td>\n",
       "      <td>1.0</td>\n",
       "      <td>2.0</td>\n",
       "      <td>146340.0</td>\n",
       "    </tr>\n",
       "    <tr>\n",
       "      <th>26157</th>\n",
       "      <td>2021-03-29</td>\n",
       "      <td>1.0</td>\n",
       "      <td>2.0</td>\n",
       "      <td>2.0</td>\n",
       "      <td>4.0</td>\n",
       "      <td>0.0</td>\n",
       "      <td>0.0</td>\n",
       "      <td>1.0</td>\n",
       "      <td>4.0</td>\n",
       "      <td>1.0</td>\n",
       "      <td>...</td>\n",
       "      <td>2.0</td>\n",
       "      <td>2.0</td>\n",
       "      <td>0.0</td>\n",
       "      <td>0.0</td>\n",
       "      <td>3.0</td>\n",
       "      <td>1.0</td>\n",
       "      <td>2.0</td>\n",
       "      <td>1.0</td>\n",
       "      <td>2.0</td>\n",
       "      <td>146885.0</td>\n",
       "    </tr>\n",
       "    <tr>\n",
       "      <th>26158</th>\n",
       "      <td>2021-03-30</td>\n",
       "      <td>NaN</td>\n",
       "      <td>NaN</td>\n",
       "      <td>NaN</td>\n",
       "      <td>NaN</td>\n",
       "      <td>NaN</td>\n",
       "      <td>NaN</td>\n",
       "      <td>NaN</td>\n",
       "      <td>NaN</td>\n",
       "      <td>NaN</td>\n",
       "      <td>...</td>\n",
       "      <td>NaN</td>\n",
       "      <td>NaN</td>\n",
       "      <td>NaN</td>\n",
       "      <td>NaN</td>\n",
       "      <td>NaN</td>\n",
       "      <td>NaN</td>\n",
       "      <td>NaN</td>\n",
       "      <td>NaN</td>\n",
       "      <td>NaN</td>\n",
       "      <td>147461.0</td>\n",
       "    </tr>\n",
       "    <tr>\n",
       "      <th>26159</th>\n",
       "      <td>2021-03-31</td>\n",
       "      <td>NaN</td>\n",
       "      <td>NaN</td>\n",
       "      <td>NaN</td>\n",
       "      <td>NaN</td>\n",
       "      <td>NaN</td>\n",
       "      <td>NaN</td>\n",
       "      <td>NaN</td>\n",
       "      <td>NaN</td>\n",
       "      <td>NaN</td>\n",
       "      <td>...</td>\n",
       "      <td>NaN</td>\n",
       "      <td>NaN</td>\n",
       "      <td>NaN</td>\n",
       "      <td>NaN</td>\n",
       "      <td>NaN</td>\n",
       "      <td>NaN</td>\n",
       "      <td>NaN</td>\n",
       "      <td>NaN</td>\n",
       "      <td>NaN</td>\n",
       "      <td>148332.0</td>\n",
       "    </tr>\n",
       "    <tr>\n",
       "      <th>26160</th>\n",
       "      <td>2021-04-01</td>\n",
       "      <td>NaN</td>\n",
       "      <td>NaN</td>\n",
       "      <td>NaN</td>\n",
       "      <td>NaN</td>\n",
       "      <td>NaN</td>\n",
       "      <td>NaN</td>\n",
       "      <td>NaN</td>\n",
       "      <td>NaN</td>\n",
       "      <td>NaN</td>\n",
       "      <td>...</td>\n",
       "      <td>NaN</td>\n",
       "      <td>NaN</td>\n",
       "      <td>NaN</td>\n",
       "      <td>NaN</td>\n",
       "      <td>NaN</td>\n",
       "      <td>NaN</td>\n",
       "      <td>NaN</td>\n",
       "      <td>NaN</td>\n",
       "      <td>NaN</td>\n",
       "      <td>149207.0</td>\n",
       "    </tr>\n",
       "    <tr>\n",
       "      <th>26161</th>\n",
       "      <td>2021-04-02</td>\n",
       "      <td>NaN</td>\n",
       "      <td>NaN</td>\n",
       "      <td>NaN</td>\n",
       "      <td>NaN</td>\n",
       "      <td>NaN</td>\n",
       "      <td>NaN</td>\n",
       "      <td>NaN</td>\n",
       "      <td>NaN</td>\n",
       "      <td>NaN</td>\n",
       "      <td>...</td>\n",
       "      <td>NaN</td>\n",
       "      <td>NaN</td>\n",
       "      <td>NaN</td>\n",
       "      <td>NaN</td>\n",
       "      <td>NaN</td>\n",
       "      <td>NaN</td>\n",
       "      <td>NaN</td>\n",
       "      <td>NaN</td>\n",
       "      <td>NaN</td>\n",
       "      <td>NaN</td>\n",
       "    </tr>\n",
       "    <tr>\n",
       "      <th>26162</th>\n",
       "      <td>2021-04-03</td>\n",
       "      <td>NaN</td>\n",
       "      <td>NaN</td>\n",
       "      <td>NaN</td>\n",
       "      <td>NaN</td>\n",
       "      <td>NaN</td>\n",
       "      <td>NaN</td>\n",
       "      <td>NaN</td>\n",
       "      <td>NaN</td>\n",
       "      <td>NaN</td>\n",
       "      <td>...</td>\n",
       "      <td>NaN</td>\n",
       "      <td>NaN</td>\n",
       "      <td>NaN</td>\n",
       "      <td>NaN</td>\n",
       "      <td>NaN</td>\n",
       "      <td>NaN</td>\n",
       "      <td>NaN</td>\n",
       "      <td>NaN</td>\n",
       "      <td>NaN</td>\n",
       "      <td>NaN</td>\n",
       "    </tr>\n",
       "  </tbody>\n",
       "</table>\n",
       "<p>10 rows × 26 columns</p>\n",
       "</div>"
      ],
      "text/plain": [
       "            Date  C1_School closing  C2_Workplace closing  \\\n",
       "26153 2021-03-25                1.0                   2.0   \n",
       "26154 2021-03-26                1.0                   2.0   \n",
       "26155 2021-03-27                1.0                   2.0   \n",
       "26156 2021-03-28                1.0                   2.0   \n",
       "26157 2021-03-29                1.0                   2.0   \n",
       "26158 2021-03-30                NaN                   NaN   \n",
       "26159 2021-03-31                NaN                   NaN   \n",
       "26160 2021-04-01                NaN                   NaN   \n",
       "26161 2021-04-02                NaN                   NaN   \n",
       "26162 2021-04-03                NaN                   NaN   \n",
       "\n",
       "       C3_Cancel public events  C4_Restrictions on gatherings  \\\n",
       "26153                      2.0                            4.0   \n",
       "26154                      2.0                            4.0   \n",
       "26155                      2.0                            4.0   \n",
       "26156                      2.0                            4.0   \n",
       "26157                      2.0                            4.0   \n",
       "26158                      NaN                            NaN   \n",
       "26159                      NaN                            NaN   \n",
       "26160                      NaN                            NaN   \n",
       "26161                      NaN                            NaN   \n",
       "26162                      NaN                            NaN   \n",
       "\n",
       "       C5_Close public transport  C6_Stay at home requirements  \\\n",
       "26153                        0.0                           0.0   \n",
       "26154                        0.0                           0.0   \n",
       "26155                        0.0                           0.0   \n",
       "26156                        0.0                           0.0   \n",
       "26157                        0.0                           0.0   \n",
       "26158                        NaN                           NaN   \n",
       "26159                        NaN                           NaN   \n",
       "26160                        NaN                           NaN   \n",
       "26161                        NaN                           NaN   \n",
       "26162                        NaN                           NaN   \n",
       "\n",
       "       C7_Restrictions on internal movement  C8_International travel controls  \\\n",
       "26153                                   1.0                               4.0   \n",
       "26154                                   1.0                               4.0   \n",
       "26155                                   1.0                               4.0   \n",
       "26156                                   1.0                               4.0   \n",
       "26157                                   1.0                               4.0   \n",
       "26158                                   NaN                               NaN   \n",
       "26159                                   NaN                               NaN   \n",
       "26160                                   NaN                               NaN   \n",
       "26161                                   NaN                               NaN   \n",
       "26162                                   NaN                               NaN   \n",
       "\n",
       "       E1_Income support  ...  H2_Testing policy  H3_Contact tracing  \\\n",
       "26153                1.0  ...                2.0                 2.0   \n",
       "26154                1.0  ...                2.0                 2.0   \n",
       "26155                1.0  ...                2.0                 2.0   \n",
       "26156                1.0  ...                2.0                 2.0   \n",
       "26157                1.0  ...                2.0                 2.0   \n",
       "26158                NaN  ...                NaN                 NaN   \n",
       "26159                NaN  ...                NaN                 NaN   \n",
       "26160                NaN  ...                NaN                 NaN   \n",
       "26161                NaN  ...                NaN                 NaN   \n",
       "26162                NaN  ...                NaN                 NaN   \n",
       "\n",
       "       H4_Emergency investment in healthcare  H5_Investment in vaccines  \\\n",
       "26153                                    0.0                        0.0   \n",
       "26154                                    0.0                        0.0   \n",
       "26155                                    0.0                        0.0   \n",
       "26156                                    0.0                        0.0   \n",
       "26157                                    0.0                        0.0   \n",
       "26158                                    NaN                        NaN   \n",
       "26159                                    NaN                        NaN   \n",
       "26160                                    NaN                        NaN   \n",
       "26161                                    NaN                        NaN   \n",
       "26162                                    NaN                        NaN   \n",
       "\n",
       "       H6_Facial Coverings  H6_Flag  H7_Vaccination policy  H7_Flag  \\\n",
       "26153                  3.0      1.0                    2.0      1.0   \n",
       "26154                  3.0      1.0                    2.0      1.0   \n",
       "26155                  3.0      1.0                    2.0      1.0   \n",
       "26156                  3.0      1.0                    2.0      1.0   \n",
       "26157                  3.0      1.0                    2.0      1.0   \n",
       "26158                  NaN      NaN                    NaN      NaN   \n",
       "26159                  NaN      NaN                    NaN      NaN   \n",
       "26160                  NaN      NaN                    NaN      NaN   \n",
       "26161                  NaN      NaN                    NaN      NaN   \n",
       "26162                  NaN      NaN                    NaN      NaN   \n",
       "\n",
       "       H8_Protection of elderly people  ConfirmedCases  \n",
       "26153                              2.0        144311.0  \n",
       "26154                              2.0        145028.0  \n",
       "26155                              2.0        145696.0  \n",
       "26156                              2.0        146340.0  \n",
       "26157                              2.0        146885.0  \n",
       "26158                              NaN        147461.0  \n",
       "26159                              NaN        148332.0  \n",
       "26160                              NaN        149207.0  \n",
       "26161                              NaN             NaN  \n",
       "26162                              NaN             NaN  \n",
       "\n",
       "[10 rows x 26 columns]"
      ]
     },
     "execution_count": 3,
     "metadata": {},
     "output_type": "execute_result"
    }
   ],
   "source": [
    "# Keep only the columns that we want and display the first 10 samples\n",
    "df = df[columns]\n",
    "df.tail(10)"
   ]
  },
  {
   "cell_type": "code",
   "execution_count": 4,
   "metadata": {
    "executionInfo": {
     "elapsed": 147,
     "status": "ok",
     "timestamp": 1616612781022,
     "user": {
      "displayName": "Roberto Medeiros de Souza",
      "photoUrl": "https://lh3.googleusercontent.com/a-/AOh14GjNSx6sawbAkG0C_mz5xTKcM7sE5CS_OTIRmiD3ESc=s64",
      "userId": "15090920763882844564"
     },
     "user_tz": 360
    },
    "id": "r1XVlKqIIDJN"
   },
   "outputs": [],
   "source": [
    "# Fill missing confirmed cases with 0s (initial cases) and interpolating the remaining\n",
    "df[\"ConfirmedCases\"].values[:70] = 0\n",
    "df[\"ConfirmedCases\"] = df[\"ConfirmedCases\"].interpolate()\n",
    "df[\"ConfirmedCases\"].values[159] = (df[\"ConfirmedCases\"].values[160] + df[\"ConfirmedCases\"].values[158])/2  "
   ]
  },
  {
   "cell_type": "code",
   "execution_count": 5,
   "metadata": {
    "colab": {
     "base_uri": "https://localhost:8080/",
     "height": 265
    },
    "executionInfo": {
     "elapsed": 339,
     "status": "ok",
     "timestamp": 1616612781844,
     "user": {
      "displayName": "Roberto Medeiros de Souza",
      "photoUrl": "https://lh3.googleusercontent.com/a-/AOh14GjNSx6sawbAkG0C_mz5xTKcM7sE5CS_OTIRmiD3ESc=s64",
      "userId": "15090920763882844564"
     },
     "user_tz": 360
    },
    "id": "OaAPSyKUb9Mm",
    "outputId": "4b24872a-6039-445e-aee1-ec29a465ebe7"
   },
   "outputs": [
    {
     "data": {
      "image/png": "[encoded data removed]",
      "text/plain": [
       "<Figure size 432x288 with 1 Axes>"
      ]
     },
     "metadata": {
      "needs_background": "light"
     },
     "output_type": "display_data"
    }
   ],
   "source": [
    "plt.figure()\n",
    "plt.plot(df[\"ConfirmedCases\"].values)\n",
    "plt.xlabel(\"Number of days\")\n",
    "plt.ylabel(\"Total number of confirmed cases\")\n",
    "plt.show()"
   ]
  },
  {
   "cell_type": "code",
   "execution_count": 6,
   "metadata": {
    "colab": {
     "base_uri": "https://localhost:8080/",
     "height": 583
    },
    "executionInfo": {
     "elapsed": 188,
     "status": "ok",
     "timestamp": 1616612782739,
     "user": {
      "displayName": "Roberto Medeiros de Souza",
      "photoUrl": "https://lh3.googleusercontent.com/a-/AOh14GjNSx6sawbAkG0C_mz5xTKcM7sE5CS_OTIRmiD3ESc=s64",
      "userId": "15090920763882844564"
     },
     "user_tz": 360
    },
    "id": "WK2vgPIXb9i2",
    "outputId": "b4018bc8-4290-4587-f7f4-5bef041fdae4"
   },
   "outputs": [
    {
     "data": {
      "text/plain": [
       "Index(['Date', 'C1_School closing', 'C2_Workplace closing',\n",
       "       'C3_Cancel public events', 'C4_Restrictions on gatherings',\n",
       "       'C5_Close public transport', 'C6_Stay at home requirements',\n",
       "       'C7_Restrictions on internal movement',\n",
       "       'C8_International travel controls', 'E1_Income support', 'E1_Flag',\n",
       "       'E2_Debt/contract relief', 'E3_Fiscal measures',\n",
       "       'E4_International support', 'H1_Public information campaigns',\n",
       "       'H1_Flag', 'H2_Testing policy', 'H3_Contact tracing',\n",
       "       'H4_Emergency investment in healthcare', 'H5_Investment in vaccines',\n",
       "       'H6_Facial Coverings', 'H6_Flag', 'H7_Vaccination policy', 'H7_Flag',\n",
       "       'H8_Protection of elderly people', 'ConfirmedCases',\n",
       "       'DailyChangeConfirmedCases', 'Cases7DayAverage'],\n",
       "      dtype='object')"
      ]
     },
     "execution_count": 6,
     "metadata": {},
     "output_type": "execute_result"
    }
   ],
   "source": [
    "df[\"DailyChangeConfirmedCases\"] = df.ConfirmedCases.diff().fillna(0)\n",
    "df[\"Cases7DayAverage\"]  = df[\"DailyChangeConfirmedCases\"].rolling(7).mean().fillna(0)\n",
    "\n",
    "# Fill misisng values with -1\n",
    "for npi_column in columns:\n",
    "    df[npi_column] = df[npi_column].fillna(-1)\n",
    "\n",
    "df.tail(10)\n",
    "df.columns"
   ]
  },
  {
   "cell_type": "code",
   "execution_count": 7,
   "metadata": {
    "colab": {
     "base_uri": "https://localhost:8080/",
     "height": 265
    },
    "executionInfo": {
     "elapsed": 396,
     "status": "ok",
     "timestamp": 1616612784518,
     "user": {
      "displayName": "Roberto Medeiros de Souza",
      "photoUrl": "https://lh3.googleusercontent.com/a-/AOh14GjNSx6sawbAkG0C_mz5xTKcM7sE5CS_OTIRmiD3ESc=s64",
      "userId": "15090920763882844564"
     },
     "user_tz": 360
    },
    "id": "hBBtkYGskBYA",
    "outputId": "b8ffc482-4a51-4cc1-9514-5c64f6641c2c"
   },
   "outputs": [
    {
     "data": {
      "image/png": "[encoded data removed]",
      "text/plain": [
       "<Figure size 432x288 with 1 Axes>"
      ]
     },
     "metadata": {
      "needs_background": "light"
     },
     "output_type": "display_data"
    }
   ],
   "source": [
    "plt.figure()\n",
    "plt.plot(df[\"DailyChangeConfirmedCases\"].values, label = \"Official daily count\") \n",
    "plt.plot(df[\"Cases7DayAverage\"].values, label = \"7-day average\")\n",
    "plt.xlabel(\"Number of days\")\n",
    "plt.ylabel(\"Daily cases\")\n",
    "plt.legend()\n",
    "plt.show()"
   ]
  },
  {
   "cell_type": "code",
   "execution_count": 8,
   "metadata": {},
   "outputs": [],
   "source": [
    "DAYS_BACK  = 20 # We look 20 days back into the 7 day average to perform our prediction\n",
    "DAYS_FORWARD = 7 # We want to predict daily cases up to 7 days ahead\n",
    "X = df[df.columns[1:]].values[:,1:] # Get numpy array from pandas dataframe\n",
    "X_static = X[DAYS_BACK:-DAYS_FORWARD,:-3] # static features\n",
    "X_timeseries = np.zeros((X.shape[0]- DAYS_BACK - DAYS_FORWARD,DAYS_BACK)) # time series features, \n",
    "                                                                          # i.e., historical daily cases\n",
    "\n",
    "Y = np.zeros((X.shape[0]- DAYS_BACK - DAYS_FORWARD,DAYS_FORWARD))\n",
    "\n",
    "# Preparing the time series data and the labels\n",
    "for ii in range(DAYS_BACK, X.shape[0]- DAYS_FORWARD):\n",
    "    X_timeseries[ii-DAYS_BACK,:] = X[(ii - DAYS_BACK):ii,-1]\n",
    "    Y[ii-DAYS_BACK,:] = X[ii:(ii + DAYS_FORWARD),-1]"
   ]
  },
  {
   "cell_type": "code",
   "execution_count": 11,
   "metadata": {},
   "outputs": [],
   "source": [
    "# Splitting the dataset\n",
    "X_static_dev = X_static[45:-21]\n",
    "max_static = X_static_dev.max(axis = 0,keepdims = True)\n",
    "X_static_dev = X_static_dev/(max_static + 1e-10)\n",
    "X_timeseries_dev = X_timeseries[45:-21]#[:,:,np.newaxis]\n",
    "max_temporal = X_timeseries_dev.max()\n",
    "X_timeseries_dev = X_timeseries_dev/max_temporal\n",
    "Y_dev = Y[45:-21]\n",
    "\n",
    "indexes = np.arange(X_static_dev.shape[0])\n",
    "np.random.shuffle(indexes)\n",
    "X_static_dev = X_static_dev[indexes]\n",
    "X_timeseries_dev = X_timeseries_dev[indexes]\n",
    "Y_dev = Y_dev[indexes]\n",
    "\n",
    "X_static_test = X_static[-21:-1]\n",
    "X_static_test = X_static_test/(max_static+1e-10)\n",
    "X_timeseries_test = X_timeseries[-21:-1]/max_temporal\n",
    "Y_test = Y[-21:-1]"
   ]
  },
  {
   "cell_type": "markdown",
   "metadata": {},
   "source": [
    "## Only edit the cells below for the assignment"
   ]
  },
  {
   "cell_type": "code",
   "execution_count": null,
   "metadata": {},
   "outputs": [],
   "source": [
    "# Your model should receive these two inputs\n",
    "input_A = tf.keras.layers.Input(shape=(X_static_dev.shape[1],), name=\"inputA\")\n",
    "input_B = tf.keras.layers.Input(shape=(None, 1), name=\"inputB\")\n",
    "\n",
    "#Define your model here"
   ]
  },
  {
   "cell_type": "code",
   "execution_count": 13,
   "metadata": {},
   "outputs": [
    {
     "name": "stdout",
     "output_type": "stream",
     "text": [
      "Model: \"model\"\n",
      "__________________________________________________________________________________________________\n",
      "Layer (type)                    Output Shape         Param #     Connected to                     \n",
      "==================================================================================================\n",
      "inputB (InputLayer)             [(None, None, 1)]    0                                            \n",
      "__________________________________________________________________________________________________\n",
      "lstm (LSTM)                     (None, None, 50)     10400       inputB[0][0]                     \n",
      "__________________________________________________________________________________________________\n",
      "lstm_1 (LSTM)                   (None, 25)           7600        lstm[0][0]                       \n",
      "__________________________________________________________________________________________________\n",
      "inputA (InputLayer)             [(None, 23)]         0                                            \n",
      "__________________________________________________________________________________________________\n",
      "flatten (Flatten)               (None, 25)           0           lstm_1[0][0]                     \n",
      "__________________________________________________________________________________________________\n",
      "concatenate (Concatenate)       (None, 48)           0           inputA[0][0]                     \n",
      "                                                                 flatten[0][0]                    \n",
      "__________________________________________________________________________________________________\n",
      "dense (Dense)                   (None, 50)           2450        concatenate[0][0]                \n",
      "__________________________________________________________________________________________________\n",
      "dense_1 (Dense)                 (None, 7)            357         dense[0][0]                      \n",
      "==================================================================================================\n",
      "Total params: 20,807\n",
      "Trainable params: 20,807\n",
      "Non-trainable params: 0\n",
      "__________________________________________________________________________________________________\n"
     ]
    }
   ],
   "source": [
    "model.summary()"
   ]
  },
  {
   "cell_type": "code",
   "execution_count": 14,
   "metadata": {},
   "outputs": [],
   "source": [
    "opt = tf.keras.optimizers.SGD(lr= 1e-3) # Feel free to choose your optimizer\n",
    "model.compile(loss='mae',optimizer=opt)\n",
    "\n",
    "model_name = \"covid_alberta_lstm.h5\"\n",
    "early_stop = tf.keras.callbacks.EarlyStopping(monitor='val_loss', patience = 1300)\n",
    "\n",
    "monitor = tf.keras.callbacks.ModelCheckpoint(model_name, monitor='val_loss',\\\n",
    "                                             verbose=0,save_best_only=True,\\\n",
    "                                             save_weights_only=True,\\\n",
    "                                             mode='min')\n",
    "# Learning rate schedule\n",
    "def scheduler(epoch, lr):\n",
    "    if epoch%50 == 0 and epoch!= 0:\n",
    "        lr = lr/1.1\n",
    "    return lr\n",
    "\n",
    "lr_schedule = tf.keras.callbacks.LearningRateScheduler(scheduler,verbose = 0)"
   ]
  },
  {
   "cell_type": "code",
   "execution_count": null,
   "metadata": {},
   "outputs": [],
   "source": [
    "history = model.fit((X_static_dev, X_timeseries_dev),Y_dev, epochs=1500, batch_size = 24, \\\n",
    "                    callbacks= [early_stop, monitor, lr_schedule],shuffle = True,\\\n",
    "                    validation_split = 0.2)"
   ]
  },
  {
   "cell_type": "markdown",
   "metadata": {},
   "source": [
    "## Don't edit the cell below"
   ]
  },
  {
   "cell_type": "code",
   "execution_count": 22,
   "metadata": {},
   "outputs": [
    {
     "name": "stdout",
     "output_type": "stream",
     "text": [
      "1/1 [==============================] - 0s 10ms/step - loss: 78.6585\n"
     ]
    },
    {
     "data": {
      "text/plain": [
       "78.65853118896484"
      ]
     },
     "execution_count": 22,
     "metadata": {},
     "output_type": "execute_result"
    }
   ],
   "source": [
    "model.load_weights(model_name)\n",
    "model.evaluate((X_static_test,X_timeseries_test),Y_test)"
   ]
  },
  {
   "cell_type": "markdown",
   "metadata": {},
   "source": [
    "##  Team members participtaion\n",
    "(include the description of what each team member did and the consensus score for each team member)\n",
    "\n",
    "- **Arya Stark** helped design the model and write the code for fully connected model (**score 3**)\n",
    "- **Luke Skywalker** helped design helped to implement the data augmentation module (**score 3**)\n",
    "- ..."
   ]
  }
 ],
 "metadata": {
  "colab": {
   "name": "tutorial_lstm_covid.ipynb",
   "provenance": []
  },
  "kernelspec": {
   "display_name": "Python 3",
   "language": "python",
   "name": "python3"
  },
  "language_info": {
   "codemirror_mode": {
    "name": "ipython",
    "version": 3
   },
   "file_extension": ".py",
   "mimetype": "text/x-python",
   "name": "python",
   "nbconvert_exporter": "python",
   "pygments_lexer": "ipython3",
   "version": "3.6.9"
  }
 },
 "nbformat": 4,
 "nbformat_minor": 1
}
